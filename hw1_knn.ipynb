{
 "cells": [
  {
   "cell_type": "code",
   "execution_count": 1,
   "id": "31421c42-de38-4841-9065-2e3f9f860feb",
   "metadata": {},
   "outputs": [],
   "source": [
    "import numpy as np\n",
    "import matplotlib.pyplot as plt\n",
    "from matplotlib import image as mpimg\n",
    "from skimage.feature import hog\n",
    "import cv2, os, glob, math\n",
    "import scipy.spatial # euclidean hesaplama getirilecek\n",
    "from collections import Counter # alternatifi var mı bakılır"
   ]
  },
  {
   "cell_type": "code",
   "execution_count": 2,
   "id": "861797dc-5d62-4998-8695-b1e8449105e4",
   "metadata": {},
   "outputs": [],
   "source": [
    "def create_data(filename):\n",
    "    data = []\n",
    "    for jpg in glob.glob(\"images/\" + filename + \"/*.jpg\"):\n",
    "        img = np.array(mpimg.imread(jpg))\n",
    "        img = cv2.resize(img, (256,256))\n",
    "        fd = hog(img)\n",
    "        data.append(fd)\n",
    "        \n",
    "    return data\n",
    "\n",
    "def data_split(rate, array):\n",
    "    l = len(array)\n",
    "    n_train = math.floor((1-rate) * l)\n",
    "    train = array[:n_train]\n",
    "    test = array[n_train:]\n",
    "    \n",
    "    return train, test\n",
    "\n",
    "def create_label(array, label1, label2):\n",
    "    l = len(array)\n",
    "    new_array = []\n",
    "    for i in range(l):\n",
    "        if i < l/2:\n",
    "            new_array.append(label1)\n",
    "        else:\n",
    "            new_array.append(label2)\n",
    "    \n",
    "    return new_array"
   ]
  },
  {
   "cell_type": "code",
   "execution_count": 3,
   "id": "f0ad6ce9-4d86-4841-9007-44fa873b7df4",
   "metadata": {},
   "outputs": [
    {
     "data": {
      "text/plain": [
       "500"
      ]
     },
     "execution_count": 3,
     "metadata": {},
     "output_type": "execute_result"
    }
   ],
   "source": [
    "data_tigers = create_data(\"tigers\")[:500]\n",
    "len(data_tigers)"
   ]
  },
  {
   "cell_type": "code",
   "execution_count": 4,
   "id": "d51845f6-b60d-4037-a8e7-a51621774a77",
   "metadata": {},
   "outputs": [
    {
     "data": {
      "text/plain": [
       "500"
      ]
     },
     "execution_count": 4,
     "metadata": {},
     "output_type": "execute_result"
    }
   ],
   "source": [
    "data_dolphins = create_data(\"dolphins\")[:500]\n",
    "len(data_dolphins)"
   ]
  },
  {
   "cell_type": "code",
   "execution_count": 5,
   "id": "43e8b637-1409-493f-92af-8698e5ff5cb1",
   "metadata": {},
   "outputs": [
    {
     "name": "stdout",
     "output_type": "stream",
     "text": [
      "450\n",
      "50\n"
     ]
    }
   ],
   "source": [
    "train_tigers, test_tigers = data_split(0.1, data_tigers)\n",
    "\n",
    "print(len(train_tigers))\n",
    "print(len(test_tigers))"
   ]
  },
  {
   "cell_type": "code",
   "execution_count": 6,
   "id": "31a40edc-f21d-4d8d-979f-07b30fbec0e2",
   "metadata": {},
   "outputs": [
    {
     "name": "stdout",
     "output_type": "stream",
     "text": [
      "450\n",
      "50\n"
     ]
    }
   ],
   "source": [
    "train_dolphins, test_dolphins = data_split(0.1, data_dolphins)\n",
    "\n",
    "print(len(train_dolphins))\n",
    "print(len(test_tigers))"
   ]
  },
  {
   "cell_type": "code",
   "execution_count": 7,
   "id": "ed8f20fb-813f-4653-84e8-f47ce6aaa6c4",
   "metadata": {},
   "outputs": [
    {
     "name": "stdout",
     "output_type": "stream",
     "text": [
      "900\n"
     ]
    }
   ],
   "source": [
    "train_data = train_tigers + train_dolphins\n",
    "print(len(train_data))"
   ]
  },
  {
   "cell_type": "code",
   "execution_count": 8,
   "id": "ec3749e7-dd55-4898-88a9-7cd95b61354e",
   "metadata": {},
   "outputs": [
    {
     "name": "stdout",
     "output_type": "stream",
     "text": [
      "100\n"
     ]
    }
   ],
   "source": [
    "test_data = test_tigers + test_dolphins\n",
    "print(len(test_data))"
   ]
  },
  {
   "cell_type": "code",
   "execution_count": 9,
   "id": "9c065e63-297e-47bc-8839-5aaad99d3757",
   "metadata": {},
   "outputs": [
    {
     "name": "stdout",
     "output_type": "stream",
     "text": [
      "900\n"
     ]
    }
   ],
   "source": [
    "train_labels = create_label(train_data, \"tiger\", \"dolphin\")\n",
    "\n",
    "print(len(train_labels))"
   ]
  },
  {
   "cell_type": "code",
   "execution_count": 10,
   "id": "8e1dd8ef-8538-43ca-8381-60300addce26",
   "metadata": {},
   "outputs": [
    {
     "name": "stdout",
     "output_type": "stream",
     "text": [
      "100\n"
     ]
    }
   ],
   "source": [
    "test_labels = create_label(test_data, \"tiger\", \"dolphin\")\n",
    "\n",
    "print(len(test_labels))"
   ]
  },
  {
   "cell_type": "code",
   "execution_count": 11,
   "id": "319a6d25-341c-4147-9c90-c1e979a25c2c",
   "metadata": {},
   "outputs": [],
   "source": [
    "k = 5\n",
    "ks = []\n",
    "acc = []\n",
    "while(k <= 31):\n",
    "    final_output = []\n",
    "    for i in range(len(test_data)):\n",
    "        d = []\n",
    "        votes = []\n",
    "        for j in range(len(train_data)):\n",
    "            dist = scipy.spatial.distance.euclidean(train_data[j] , test_data[i])\n",
    "            d.append([dist, j])\n",
    "        d.sort()\n",
    "        d = d[0:k]\n",
    "        for d, j in d:\n",
    "            votes.append(train_labels[j])\n",
    "        ans = Counter(votes).most_common(1)[0][0]\n",
    "        final_output.append(ans)\n",
    "        \n",
    "        pred = np.array(final_output)\n",
    "        test = np.array(test_labels)\n",
    "        \n",
    "    acc.append((pred == test).sum() / len(test))\n",
    "    ks.append(k)\n",
    "    k = k + 2"
   ]
  },
  {
   "cell_type": "code",
   "execution_count": 12,
   "id": "9a6850f9-d3fa-4f69-a41c-bd5e8096e770",
   "metadata": {},
   "outputs": [
    {
     "name": "stdout",
     "output_type": "stream",
     "text": [
      "[5, 7, 9, 11, 13, 15, 17, 19, 21, 23, 25, 27, 29, 31]\n",
      "[0.87, 0.88, 0.86, 0.88, 0.9, 0.89, 0.89, 0.87, 0.87, 0.87, 0.87, 0.87, 0.88, 0.87]\n"
     ]
    }
   ],
   "source": [
    "print(ks)\n",
    "print(acc)"
   ]
  },
  {
   "cell_type": "code",
   "execution_count": 22,
   "id": "570d9824-8b1f-4ead-93b5-f25d13a24e0c",
   "metadata": {},
   "outputs": [
    {
     "data": {
      "image/png": "[encoded data removed]",
      "text/plain": [
       "<Figure size 432x288 with 1 Axes>"
      ]
     },
     "metadata": {
      "needs_background": "light"
     },
     "output_type": "display_data"
    }
   ],
   "source": [
    "plt.plot(ks, acc)\n",
    "plt.xticks(ks)\n",
    "plt.yticks(acc)\n",
    "plt.xlabel(\"k - number of neighbors\")\n",
    "plt.ylabel(\"accuracy\")\n",
    "plt.show()"
   ]
  },
  {
   "cell_type": "code",
   "execution_count": null,
   "id": "3aabd7c5-5073-475f-a599-2bd0d71cc9eb",
   "metadata": {},
   "outputs": [],
   "source": []
  }
 ],
 "metadata": {
  "kernelspec": {
   "display_name": "Python 3 (ipykernel)",
   "language": "python",
   "name": "python3"
  },
  "language_info": {
   "codemirror_mode": {
    "name": "ipython",
    "version": 3
   },
   "file_extension": ".py",
   "mimetype": "text/x-python",
   "name": "python",
   "nbconvert_exporter": "python",
   "pygments_lexer": "ipython3",
   "version": "3.9.7"
  }
 },
 "nbformat": 4,
 "nbformat_minor": 5
}
